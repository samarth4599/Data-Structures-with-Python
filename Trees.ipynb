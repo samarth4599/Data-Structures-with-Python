{
 "cells": [
  {
   "cell_type": "code",
   "execution_count": 1,
   "metadata": {},
   "outputs": [],
   "source": [
    "class node:\n",
    "    def __init__(self,data):\n",
    "        self.data=data\n",
    "        self.next=None\n",
    "class Q:\n",
    "    def __init__(self):\n",
    "        self.head=None\n",
    "        self.tail=None\n",
    "        self.size=0\n",
    "    def enqueue(self,data):\n",
    "        n=node(data)\n",
    "        if self.head==None:\n",
    "            self.head=n\n",
    "            self.tail=n\n",
    "        else:\n",
    "            self.tail.next=n\n",
    "            self.tail=n\n",
    "        self.size+=1\n",
    "    def dequeue(self):\n",
    "        if self.size==0:\n",
    "            return 0\n",
    "        temp=self.head\n",
    "        if self.size==1:\n",
    "            self.head=None\n",
    "            self.tail=None\n",
    "        else:\n",
    "            self.head=self.head.next\n",
    "            temp.next=None\n",
    "        self.size-=1\n",
    "        return temp.data\n",
    "    def traverse(self):\n",
    "        q=self.head\n",
    "        while(q!=None):\n",
    "            print(q.data)\n",
    "            q=q.next"
   ]
  },
  {
   "cell_type": "markdown",
   "metadata": {},
   "source": [
    "### Input and Print (Level-Wise)"
   ]
  },
  {
   "cell_type": "code",
   "execution_count": 2,
   "metadata": {},
   "outputs": [
    {
     "name": "stdout",
     "output_type": "stream",
     "text": [
      "Enter root data: \n"
     ]
    },
    {
     "ename": "ValueError",
     "evalue": "invalid literal for int() with base 10: ''",
     "output_type": "error",
     "traceback": [
      "\u001b[1;31m---------------------------------------------------------------------------\u001b[0m",
      "\u001b[1;31mValueError\u001b[0m                                Traceback (most recent call last)",
      "\u001b[1;32m<ipython-input-2-33df93fd1c7e>\u001b[0m in \u001b[0;36m<module>\u001b[1;34m\u001b[0m\n\u001b[0;32m     32\u001b[0m \u001b[1;33m\u001b[0m\u001b[0m\n\u001b[0;32m     33\u001b[0m \u001b[1;33m\u001b[0m\u001b[0m\n\u001b[1;32m---> 34\u001b[1;33m \u001b[0mz\u001b[0m\u001b[1;33m=\u001b[0m\u001b[0minputlevel\u001b[0m\u001b[1;33m(\u001b[0m\u001b[1;33m)\u001b[0m\u001b[1;33m\u001b[0m\u001b[1;33m\u001b[0m\u001b[0m\n\u001b[0m\u001b[0;32m     35\u001b[0m \u001b[0mprintlevelwise\u001b[0m\u001b[1;33m(\u001b[0m\u001b[0mz\u001b[0m\u001b[1;33m)\u001b[0m\u001b[1;33m\u001b[0m\u001b[1;33m\u001b[0m\u001b[0m\n",
      "\u001b[1;32m<ipython-input-2-33df93fd1c7e>\u001b[0m in \u001b[0;36minputlevel\u001b[1;34m()\u001b[0m\n\u001b[0;32m      4\u001b[0m         \u001b[0mself\u001b[0m\u001b[1;33m.\u001b[0m\u001b[0mchildren\u001b[0m\u001b[1;33m=\u001b[0m\u001b[0mlist\u001b[0m\u001b[1;33m(\u001b[0m\u001b[1;33m)\u001b[0m\u001b[1;33m\u001b[0m\u001b[1;33m\u001b[0m\u001b[0m\n\u001b[0;32m      5\u001b[0m \u001b[1;32mdef\u001b[0m \u001b[0minputlevel\u001b[0m\u001b[1;33m(\u001b[0m\u001b[1;33m)\u001b[0m\u001b[1;33m:\u001b[0m\u001b[1;33m\u001b[0m\u001b[1;33m\u001b[0m\u001b[0m\n\u001b[1;32m----> 6\u001b[1;33m     \u001b[0mroot\u001b[0m\u001b[1;33m=\u001b[0m\u001b[0mint\u001b[0m\u001b[1;33m(\u001b[0m\u001b[0minput\u001b[0m\u001b[1;33m(\u001b[0m\u001b[1;34m\"Enter root data: \"\u001b[0m\u001b[1;33m)\u001b[0m\u001b[1;33m)\u001b[0m\u001b[1;33m\u001b[0m\u001b[1;33m\u001b[0m\u001b[0m\n\u001b[0m\u001b[0;32m      7\u001b[0m     \u001b[0mque\u001b[0m\u001b[1;33m=\u001b[0m\u001b[0mQ\u001b[0m\u001b[1;33m(\u001b[0m\u001b[1;33m)\u001b[0m\u001b[1;33m\u001b[0m\u001b[1;33m\u001b[0m\u001b[0m\n\u001b[0;32m      8\u001b[0m     \u001b[0mt\u001b[0m\u001b[1;33m=\u001b[0m\u001b[0mtree\u001b[0m\u001b[1;33m(\u001b[0m\u001b[0mroot\u001b[0m\u001b[1;33m)\u001b[0m\u001b[1;33m\u001b[0m\u001b[1;33m\u001b[0m\u001b[0m\n",
      "\u001b[1;31mValueError\u001b[0m: invalid literal for int() with base 10: ''"
     ]
    }
   ],
   "source": [
    "class tree:\n",
    "    def __init__(self,data):\n",
    "        self.data=data\n",
    "        self.children=list()\n",
    "def inputlevel():\n",
    "    root=int(input(\"Enter root data: \"))\n",
    "    que=Q()\n",
    "    t=tree(root)\n",
    "    que.enqueue(t)\n",
    "    while que.size>0:\n",
    "        fn=que.dequeue()\n",
    "        print(\"Enter no of child of \",fn.data)\n",
    "        n=int(input())\n",
    "        for i in range(n):\n",
    "            print(\"enter \",i+1,\" th child of \",fn.data)\n",
    "            child=int(input())\n",
    "            cn=tree(child)\n",
    "            fn.children.append(cn)\n",
    "            que.enqueue(cn)\n",
    "    return t\n",
    "def printlevelwise(root):\n",
    "    if root==None:\n",
    "        return\n",
    "    que=Q()\n",
    "    que.enqueue(root)\n",
    "    while que.size>0:\n",
    "        fn=que.dequeue()\n",
    "        print(\"child of \",fn.data)\n",
    "        for i in fn.children:\n",
    "            print(i.data)\n",
    "            que.enqueue(i)\n",
    "        \n",
    "            \n",
    "z=inputlevel()\n",
    "printlevelwise(z)"
   ]
  },
  {
   "cell_type": "code",
   "execution_count": null,
   "metadata": {},
   "outputs": [],
   "source": [
    "import queue\n",
    "import inspect\n",
    "d=inspect.getsource(queue)\n",
    "print(d)"
   ]
  },
  {
   "cell_type": "markdown",
   "metadata": {},
   "source": [
    "### Input and Print (Recursive)"
   ]
  },
  {
   "cell_type": "code",
   "execution_count": 3,
   "metadata": {},
   "outputs": [],
   "source": [
    "def recinput():\n",
    "    p=int(input(\"Enter next Node data\"))\n",
    "    t=tree(p)\n",
    "    print(\"Enter no of children for \",p)\n",
    "    n=int(input())\n",
    "    for i in range(n):\n",
    "        child=recinput()\n",
    "        t.children.append(child)\n",
    "    return t\n",
    "def recprint(root):\n",
    "    print(root.data,\" :\",end=\" \")\n",
    "    for i in range(len(root.children)):\n",
    "        print(root.children[i].data,end=\",\")\n",
    "    print()\n",
    "    for i in range(len(root.children)):\n",
    "        recprint(root.children[i])\n",
    "#a=recinput()\n",
    "#recprint(a)"
   ]
  },
  {
   "cell_type": "markdown",
   "metadata": {},
   "source": [
    "### Find no of nodes"
   ]
  },
  {
   "cell_type": "code",
   "execution_count": 7,
   "metadata": {},
   "outputs": [
    {
     "name": "stdout",
     "output_type": "stream",
     "text": [
      "Enter next Node data2\n",
      "Enter no of children for  2\n",
      "0\n",
      "No of nodes are:  1\n"
     ]
    }
   ],
   "source": [
    "def nnodes(root):\n",
    "    count=1;\n",
    "    for i in range(len(root.children)):\n",
    "        count+=nnodes(root.children[i])\n",
    "    return count\n",
    "a=recinput()\n",
    "z=nnodes(a)\n",
    "print(\"No of nodes are: \",z)"
   ]
  },
  {
   "cell_type": "markdown",
   "metadata": {},
   "source": [
    "### Node with max data"
   ]
  },
  {
   "cell_type": "code",
   "execution_count": 12,
   "metadata": {},
   "outputs": [
    {
     "name": "stdout",
     "output_type": "stream",
     "text": [
      "Enter next Node data1\n",
      "Enter no of children for  1\n",
      "3\n",
      "Enter next Node data2\n",
      "Enter no of children for  2\n",
      "1\n",
      "Enter next Node data4\n",
      "Enter no of children for  4\n",
      "0\n",
      "Enter next Node data3\n",
      "Enter no of children for  3\n",
      "0\n",
      "Enter next Node data5\n",
      "Enter no of children for  5\n",
      "0\n",
      "Node with max data:  5\n"
     ]
    }
   ],
   "source": [
    "def maxnode(root,x):\n",
    "    if root.data>x:\n",
    "        x=root.data\n",
    "    for i in range(len(root.children)):\n",
    "        x=maxnode(root.children[i],x)\n",
    "    return x\n",
    "a=recinput()\n",
    "z=maxnode(a,0)\n",
    "print(\"Node with max data: \",z)"
   ]
  },
  {
   "cell_type": "markdown",
   "metadata": {},
   "source": [
    "### Find Height"
   ]
  },
  {
   "cell_type": "code",
   "execution_count": 13,
   "metadata": {},
   "outputs": [
    {
     "name": "stdout",
     "output_type": "stream",
     "text": [
      "Enter next Node data3\n",
      "Enter no of children for  3\n",
      "2\n",
      "Enter next Node data1\n",
      "Enter no of children for  1\n",
      "1\n",
      "Enter next Node data6\n",
      "Enter no of children for  6\n",
      "0\n",
      "Enter next Node data5\n",
      "Enter no of children for  5\n",
      "0\n",
      "Height of tree is:  3\n"
     ]
    }
   ],
   "source": [
    "def height(root):\n",
    "    h=0\n",
    "    for i in range(len(root.children)):\n",
    "        z=height(root.children[i])\n",
    "        if z>h:\n",
    "            h=z\n",
    "    return h+1\n",
    "a=recinput()\n",
    "z=height(a)\n",
    "print(\"Height of tree is: \",z)"
   ]
  },
  {
   "cell_type": "markdown",
   "metadata": {},
   "source": [
    "### Print nodes at k level"
   ]
  },
  {
   "cell_type": "code",
   "execution_count": 15,
   "metadata": {},
   "outputs": [
    {
     "name": "stdout",
     "output_type": "stream",
     "text": [
      "Enter next Node data3\n",
      "Enter no of children for  3\n",
      "2\n",
      "Enter next Node data1\n",
      "Enter no of children for  1\n",
      "2\n",
      "Enter next Node data4\n",
      "Enter no of children for  4\n",
      "0\n",
      "Enter next Node data5\n",
      "Enter no of children for  5\n",
      "0\n",
      "Enter next Node data6\n",
      "Enter no of children for  6\n",
      "0\n",
      "4\n",
      "5\n"
     ]
    }
   ],
   "source": [
    "def printatK(root,k):\n",
    "    if k<0:\n",
    "        return\n",
    "    if k==0:\n",
    "        print(root.data)\n",
    "        return\n",
    "    for i in range(len(root.children)):\n",
    "        printatK(root.children[i],k-1)\n",
    "a=recinput()\n",
    "printatK(a,2)"
   ]
  },
  {
   "cell_type": "markdown",
   "metadata": {},
   "source": [
    "### Print data of leaf nodes"
   ]
  },
  {
   "cell_type": "code",
   "execution_count": 17,
   "metadata": {},
   "outputs": [
    {
     "name": "stdout",
     "output_type": "stream",
     "text": [
      "Enter next Node data1\n",
      "Enter no of children for  1\n",
      "2\n",
      "Enter next Node data2\n",
      "Enter no of children for  2\n",
      "2\n",
      "Enter next Node data3\n",
      "Enter no of children for  3\n",
      "0\n",
      "Enter next Node data4\n",
      "Enter no of children for  4\n",
      "0\n",
      "Enter next Node data5\n",
      "Enter no of children for  5\n",
      "2\n",
      "Enter next Node data6\n",
      "Enter no of children for  6\n",
      "0\n",
      "Enter next Node data7\n",
      "Enter no of children for  7\n",
      "0\n",
      "3\n",
      "4\n",
      "6\n",
      "7\n"
     ]
    }
   ],
   "source": [
    "def printleaf(root):\n",
    "    if len(root.children)==0:\n",
    "        print(root.data)\n",
    "    for i in range(len(root.children)):\n",
    "        printleaf(root.children[i])\n",
    "a=recinput()\n",
    "printleaf(a)"
   ]
  },
  {
   "cell_type": "markdown",
   "metadata": {},
   "source": [
    "### Check structurally identical trees"
   ]
  },
  {
   "cell_type": "code",
   "execution_count": 8,
   "metadata": {},
   "outputs": [
    {
     "name": "stdout",
     "output_type": "stream",
     "text": [
      "Enter 1st tree details\n",
      "Enter next Node data10\n",
      "Enter no of children for  10\n",
      "2\n",
      "Enter next Node data20\n",
      "Enter no of children for  20\n",
      "0\n",
      "Enter next Node data30\n",
      "Enter no of children for  30\n",
      "1\n",
      "Enter next Node data40\n",
      "Enter no of children for  40\n",
      "0\n",
      "Enter 2nd tree details\n",
      "Enter next Node data10\n",
      "Enter no of children for  10\n",
      "2\n",
      "Enter next Node data20\n",
      "Enter no of children for  20\n",
      "0\n",
      "Enter next Node data30\n",
      "Enter no of children for  30\n",
      "2\n",
      "Enter next Node data40\n",
      "Enter no of children for  40\n",
      "0\n",
      "Enter next Node data50\n",
      "Enter no of children for  50\n",
      "0\n",
      "False\n"
     ]
    }
   ],
   "source": [
    "print(\"Enter 1st tree details\")\n",
    "a=recinput()\n",
    "print(\"Enter 2nd tree details\")\n",
    "b=recinput()\n",
    "def checkIdentical(a,b):\n",
    "    if a==None and b==None:\n",
    "        return True\n",
    "    if a==None or b==None:\n",
    "        return False\n",
    "    if len(a.children)!=len(b.children):\n",
    "        return False\n",
    "    for i in range(len(a.children)):\n",
    "        if(not checkIdentical(a.children[i],b.children[i])):\n",
    "            return False\n",
    "    return True\n",
    "c=checkIdentical(a,b)\n",
    "print(c)"
   ]
  },
  {
   "cell_type": "markdown",
   "metadata": {},
   "source": [
    "### Preorder Traversal"
   ]
  },
  {
   "cell_type": "code",
   "execution_count": 9,
   "metadata": {},
   "outputs": [
    {
     "name": "stdout",
     "output_type": "stream",
     "text": [
      "20\n",
      "40\n",
      "30\n",
      "10\n"
     ]
    }
   ],
   "source": [
    "def preorder(root):\n",
    "    if root==None:\n",
    "        return\n",
    "    for i in range(len(root.children)):\n",
    "        preorder(root.children[i])\n",
    "    print(root.data)\n",
    "preorder(a)"
   ]
  },
  {
   "cell_type": "code",
   "execution_count": null,
   "metadata": {},
   "outputs": [],
   "source": []
  }
 ],
 "metadata": {
  "kernelspec": {
   "display_name": "Python 3",
   "language": "python",
   "name": "python3"
  },
  "language_info": {
   "codemirror_mode": {
    "name": "ipython",
    "version": 3
   },
   "file_extension": ".py",
   "mimetype": "text/x-python",
   "name": "python",
   "nbconvert_exporter": "python",
   "pygments_lexer": "ipython3",
   "version": "3.7.3"
  }
 },
 "nbformat": 4,
 "nbformat_minor": 2
}
