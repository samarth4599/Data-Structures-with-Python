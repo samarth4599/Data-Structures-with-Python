{
 "cells": [
  {
   "cell_type": "code",
   "execution_count": 1,
   "metadata": {},
   "outputs": [
    {
     "name": "stdout",
     "output_type": "stream",
     "text": [
      "Enter no of elements to add3\n",
      "Enter element1\n",
      "Enter element2\n",
      "Enter element3\n",
      "3\n"
     ]
    }
   ],
   "source": [
    "class node:\n",
    "    def __init__(self,data):\n",
    "        self.data=data\n",
    "        self.next=None\n",
    "class Stack:\n",
    "    def __init__(self):\n",
    "        self.start=None\n",
    "        self.size=0\n",
    "    def add(self):\n",
    "        for i in range(int(input(\"Enter no of elements to add\"))):\n",
    "            n=node(int(input(\"Enter element\")))\n",
    "            if self.start==None:\n",
    "                self.start=n\n",
    "            else:\n",
    "                n.next=self.start\n",
    "                self.start=n\n",
    "            self.size+=1\n",
    "    def pop(self):\n",
    "        if self.size==0:\n",
    "            return \"Empty Stack\"\n",
    "        else:\n",
    "            t=self.start\n",
    "            self.start=self.start.next\n",
    "            t.next=None\n",
    "            return t.data\n",
    "a=Stack()\n",
    "a.add()\n",
    "t=a.pop()\n",
    "print(t)\n",
    "\n",
    "            "
   ]
  },
  {
   "cell_type": "markdown",
   "metadata": {},
   "source": [
    "### Check parenthesis"
   ]
  },
  {
   "cell_type": "code",
   "execution_count": 19,
   "metadata": {},
   "outputs": [
    {
     "name": "stdout",
     "output_type": "stream",
     "text": [
      "()\n",
      "true\n"
     ]
    }
   ],
   "source": [
    "def checkPar(s):\n",
    "    a=[]\n",
    "    for i in s:\n",
    "        if i in '({[':\n",
    "            a.append(i)\n",
    "        elif i is ')':\n",
    "            if (not a or a[-1]!='('):\n",
    "                return False\n",
    "            a.pop()\n",
    "        elif i is '}':\n",
    "            if (not a or a[-1]!='{'):\n",
    "                return False\n",
    "            a.pop()\n",
    "        elif i is ']':\n",
    "            if (not a or a[-1]!='['):\n",
    "                return False\n",
    "            a.pop()\n",
    "    if not a:\n",
    "        return True\n",
    "    return False\n",
    "\n",
    "if checkPar(input()):\n",
    "    print('true')\n",
    "else:\n",
    "    print('false')"
   ]
  },
  {
   "cell_type": "markdown",
   "metadata": {},
   "source": [
    "### Queues"
   ]
  },
  {
   "cell_type": "code",
   "execution_count": 1,
   "metadata": {},
   "outputs": [
    {
     "name": "stdout",
     "output_type": "stream",
     "text": [
      "Enter no of elements to add3\n",
      "Enter element1\n",
      "Enter element2\n",
      "Enter element3\n"
     ]
    }
   ],
   "source": [
    "class node:\n",
    "    def __init__(self,data):\n",
    "        self.data=data\n",
    "        self.next=None\n",
    "class Q:\n",
    "    def __init__(self):\n",
    "        self.head=None\n",
    "        self.tail=None\n",
    "        self.size=0\n",
    "    def enqueue(self,data):\n",
    "        n=node(data)\n",
    "        if self.head==None:\n",
    "            self.head=n\n",
    "            self.tail=n\n",
    "        else:\n",
    "            self.tail.next=n\n",
    "            self.tail=n\n",
    "        self.size+=1\n",
    "    def dequeue(self):\n",
    "        if self.size==0:\n",
    "            return 0\n",
    "        temp=self.head\n",
    "        if self.size==1:\n",
    "            self.head=None\n",
    "            self.tail=None\n",
    "        else:\n",
    "            self.head=self.head.next\n",
    "            temp.next=None\n",
    "        self.size-=1\n",
    "        return temp.data\n",
    "    def traverse(self):\n",
    "        q=self.head\n",
    "        while(q!=None):\n",
    "            print(q.data)\n",
    "            q=q.next\n",
    "q=Q()\n",
    "for i in range(int(input(\"Enter no of elements to add\"))):\n",
    "    q.enqueue(int(input(\"Enter element\")))"
   ]
  },
  {
   "cell_type": "markdown",
   "metadata": {},
   "source": [
    "### Queue using dynamic array"
   ]
  },
  {
   "cell_type": "code",
   "execution_count": 2,
   "metadata": {},
   "outputs": [
    {
     "name": "stdout",
     "output_type": "stream",
     "text": [
      "Enter no of elements to add3\n",
      "Enter element1\n",
      "Enter element2\n",
      "Enter element3\n"
     ]
    }
   ],
   "source": [
    "class Q:\n",
    "    def __init__(self):\n",
    "        self.que=[]\n",
    "        self.front=None\n",
    "        self.rear=None\n",
    "        self.size=0\n",
    "    def enqueue(self,data):\n",
    "        if self.front==None:\n",
    "            self.que.append(data)\n",
    "            self.front=self.size\n",
    "            self.tail=self.size\n",
    "        else:\n",
    "            self.que.append(data)\n",
    "            self.tail=self.size\n",
    "        self.size+=1\n",
    "    def dequeue(self):\n",
    "        if self.size==0:\n",
    "            return 0\n",
    "        temp=self.que.pop(0)\n",
    "        if self.size==1:\n",
    "            self.front=None\n",
    "            self.rear=None\n",
    "        self.size-=1\n",
    "        return temp\n",
    "    def traverse(self):\n",
    "        print(self.que)\n",
    "q=Q()\n",
    "for i in range(int(input(\"Enter no of elements to add\"))):\n",
    "    q.enqueue(int(input(\"Enter element\")))"
   ]
  },
  {
   "cell_type": "code",
   "execution_count": 3,
   "metadata": {},
   "outputs": [
    {
     "name": "stdout",
     "output_type": "stream",
     "text": [
      "1\n",
      "[2, 3]\n"
     ]
    }
   ],
   "source": [
    "z=q.dequeue()\n",
    "print(z)\n",
    "q.traverse()"
   ]
  },
  {
   "cell_type": "markdown",
   "metadata": {},
   "source": [
    "### rReverse queue"
   ]
  },
  {
   "cell_type": "markdown",
   "metadata": {},
   "source": [
    "### Infix to Postfix"
   ]
  },
  {
   "cell_type": "code",
   "execution_count": 8,
   "metadata": {},
   "outputs": [
    {
     "name": "stdout",
     "output_type": "stream",
     "text": [
      "<class 'str'> +\n",
      "<class 'str'> -\n",
      "<class 'str'> *\n",
      "23+52*-\n"
     ]
    }
   ],
   "source": [
    "def in_to_post(a):\n",
    "    a=fix(a)\n",
    "    a=a.split()\n",
    "    b=[]\n",
    "    post=\"\"\n",
    "    for i in a:\n",
    "        if i.isnumeric():\n",
    "            post+=i\n",
    "        elif i=='(':\n",
    "            b.append(i)\n",
    "        elif i==')' :\n",
    "            z=b.pop()\n",
    "            \n",
    "            while(z!='('):\n",
    "                post+=z\n",
    "                z=b.pop()\n",
    "                \n",
    "            \n",
    "        else:\n",
    "            print(type(i),i)\n",
    "            while(len(b)>0 and (priority(b[-1]) >= priority(i))):\n",
    "                post+=b.pop()\n",
    "            b.append(i)\n",
    "    while len(b)!=0:\n",
    "        post+=b.pop()\n",
    "    \n",
    "    print(post)\n",
    "def priority(a):\n",
    "    if a =='+' or a =='-':\n",
    "        return 2\n",
    "    if a =='*' or a =='/' or a=='%':\n",
    "        return 3\n",
    "    if a =='^':\n",
    "        return 4\n",
    "    if a=='(':\n",
    "        return 1\n",
    "        \n",
    "def fix(a):\n",
    "    b=\"\"\n",
    "    for i in range(len(a)):\n",
    "        if a[i].isnumeric():\n",
    "            b=b+a[i]\n",
    "        else:\n",
    "            b=b+\" \"+a[i]+\" \"\n",
    "    return b.strip()\n",
    "in_to_post('2+3-(5*2)')\n"
   ]
  },
  {
   "cell_type": "code",
   "execution_count": null,
   "metadata": {},
   "outputs": [],
   "source": []
  },
  {
   "cell_type": "code",
   "execution_count": null,
   "metadata": {},
   "outputs": [],
   "source": []
  },
  {
   "cell_type": "code",
   "execution_count": null,
   "metadata": {},
   "outputs": [],
   "source": []
  }
 ],
 "metadata": {
  "kernelspec": {
   "display_name": "Python 3",
   "language": "python",
   "name": "python3"
  },
  "language_info": {
   "codemirror_mode": {
    "name": "ipython",
    "version": 3
   },
   "file_extension": ".py",
   "mimetype": "text/x-python",
   "name": "python",
   "nbconvert_exporter": "python",
   "pygments_lexer": "ipython3",
   "version": "3.7.3"
  }
 },
 "nbformat": 4,
 "nbformat_minor": 2
}
